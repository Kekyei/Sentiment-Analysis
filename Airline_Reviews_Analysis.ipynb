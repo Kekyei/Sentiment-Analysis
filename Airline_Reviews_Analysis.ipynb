{
 "cells": [
  {
   "attachments": {},
   "cell_type": "markdown",
   "metadata": {
    "collapsed": false,
    "pycharm": {
     "name": "#%% md\n"
    }
   },
   "source": [
    "# Task 2\n",
    "\n",
    "---\n",
    "\n",
    "## INSIGHTS\n",
    "\n",
    "This Jupyter notebook includes some code to generate insights on what we learnt from the data. We will use a package called `NLTK` to perform sentiment analysis.\n",
    "\n",
    "### GRAPHS AND PLOTS\n",
    "We will then use a package called `matplotlib` to perform plot charts and graphs"
   ]
  },
  {
   "cell_type": "code",
   "execution_count": 19,
   "metadata": {},
   "outputs": [
    {
     "data": {
      "text/html": [
       "<div>\n",
       "<style scoped>\n",
       "    .dataframe tbody tr th:only-of-type {\n",
       "        vertical-align: middle;\n",
       "    }\n",
       "\n",
       "    .dataframe tbody tr th {\n",
       "        vertical-align: top;\n",
       "    }\n",
       "\n",
       "    .dataframe thead th {\n",
       "        text-align: right;\n",
       "    }\n",
       "</style>\n",
       "<table border=\"1\" class=\"dataframe\">\n",
       "  <thead>\n",
       "    <tr style=\"text-align: right;\">\n",
       "      <th></th>\n",
       "      <th>CONTENT</th>\n",
       "      <th>SENTIMENT</th>\n",
       "    </tr>\n",
       "  </thead>\n",
       "  <tbody>\n",
       "    <tr>\n",
       "      <th>0</th>\n",
       "      <td>Not Verified |  Seat horribly narrow; 3-4-3 on...</td>\n",
       "      <td>0.9507</td>\n",
       "    </tr>\n",
       "    <tr>\n",
       "      <th>1</th>\n",
       "      <td>Glasgow to London delayed by 1 hour. My wife a...</td>\n",
       "      <td>-0.5984</td>\n",
       "    </tr>\n",
       "    <tr>\n",
       "      <th>2</th>\n",
       "      <td>When I tried to check in online, I was offered...</td>\n",
       "      <td>0.9867</td>\n",
       "    </tr>\n",
       "    <tr>\n",
       "      <th>3</th>\n",
       "      <td>I flew from Prague to LHR. Excellent service, ...</td>\n",
       "      <td>0.2669</td>\n",
       "    </tr>\n",
       "    <tr>\n",
       "      <th>4</th>\n",
       "      <td>Disappointing again especially on business. Th...</td>\n",
       "      <td>-0.8999</td>\n",
       "    </tr>\n",
       "    <tr>\n",
       "      <th>...</th>\n",
       "      <td>...</td>\n",
       "      <td>...</td>\n",
       "    </tr>\n",
       "    <tr>\n",
       "      <th>1995</th>\n",
       "      <td>I was scheduled to be on BA 114 from JFK to LH...</td>\n",
       "      <td>0.9401</td>\n",
       "    </tr>\n",
       "    <tr>\n",
       "      <th>1996</th>\n",
       "      <td>British Airways from London Heathrow to New Yo...</td>\n",
       "      <td>0.8232</td>\n",
       "    </tr>\n",
       "    <tr>\n",
       "      <th>1997</th>\n",
       "      <td>We flew British Airways BA2678 from Gatwick to...</td>\n",
       "      <td>0.8225</td>\n",
       "    </tr>\n",
       "    <tr>\n",
       "      <th>1998</th>\n",
       "      <td>Flew British Airways London Heathrow to Warsaw...</td>\n",
       "      <td>-0.3818</td>\n",
       "    </tr>\n",
       "    <tr>\n",
       "      <th>1999</th>\n",
       "      <td>Barbados to Gatwick on BA2154. Flight left on ...</td>\n",
       "      <td>0.6331</td>\n",
       "    </tr>\n",
       "  </tbody>\n",
       "</table>\n",
       "<p>2000 rows × 2 columns</p>\n",
       "</div>"
      ],
      "text/plain": [
       "                                                CONTENT  SENTIMENT\n",
       "0     Not Verified |  Seat horribly narrow; 3-4-3 on...     0.9507\n",
       "1     Glasgow to London delayed by 1 hour. My wife a...    -0.5984\n",
       "2     When I tried to check in online, I was offered...     0.9867\n",
       "3     I flew from Prague to LHR. Excellent service, ...     0.2669\n",
       "4     Disappointing again especially on business. Th...    -0.8999\n",
       "...                                                 ...        ...\n",
       "1995  I was scheduled to be on BA 114 from JFK to LH...     0.9401\n",
       "1996  British Airways from London Heathrow to New Yo...     0.8232\n",
       "1997  We flew British Airways BA2678 from Gatwick to...     0.8225\n",
       "1998  Flew British Airways London Heathrow to Warsaw...    -0.3818\n",
       "1999  Barbados to Gatwick on BA2154. Flight left on ...     0.6331\n",
       "\n",
       "[2000 rows x 2 columns]"
      ]
     },
     "execution_count": 19,
     "metadata": {},
     "output_type": "execute_result"
    }
   ],
   "source": [
    "# Creating a new column called 'SENTIMENT' that contains the sentiment scores of each review using nltk\n",
    "from nltk.sentiment import vader\n",
    "import nltk\n",
    "import matplotlib.pyplot as plt\n",
    "import requests\n",
    "from collections import Counter\n",
    "\n",
    "# an instance of SentimentIntensityAnalyzer\n",
    "sentiment_analyzer = vader.SentimentIntensityAnalyzer()\n",
    "\n",
    "# a new column named 'SENTIMENT'\n",
    "sentiment_analysis_df['SENTIMENT'] = sentiment_analysis_df['CONTENT'].apply(\n",
    "    lambda review: sentiment_analyzer.polarity_scores(review)['compound']\n",
    "    )\n",
    "sentiment_analysis_df"
   ]
  },
  {
   "cell_type": "code",
   "execution_count": 20,
   "metadata": {},
   "outputs": [
    {
     "data": {
      "text/html": [
       "<div>\n",
       "<style scoped>\n",
       "    .dataframe tbody tr th:only-of-type {\n",
       "        vertical-align: middle;\n",
       "    }\n",
       "\n",
       "    .dataframe tbody tr th {\n",
       "        vertical-align: top;\n",
       "    }\n",
       "\n",
       "    .dataframe thead th {\n",
       "        text-align: right;\n",
       "    }\n",
       "</style>\n",
       "<table border=\"1\" class=\"dataframe\">\n",
       "  <thead>\n",
       "    <tr style=\"text-align: right;\">\n",
       "      <th></th>\n",
       "      <th>CONTENT</th>\n",
       "      <th>SENTIMENT</th>\n",
       "      <th>SENTIMENT_TYPE</th>\n",
       "    </tr>\n",
       "  </thead>\n",
       "  <tbody>\n",
       "    <tr>\n",
       "      <th>0</th>\n",
       "      <td>Not Verified |  Seat horribly narrow; 3-4-3 on...</td>\n",
       "      <td>0.9507</td>\n",
       "      <td>positive</td>\n",
       "    </tr>\n",
       "    <tr>\n",
       "      <th>1</th>\n",
       "      <td>Glasgow to London delayed by 1 hour. My wife a...</td>\n",
       "      <td>-0.5984</td>\n",
       "      <td>negative</td>\n",
       "    </tr>\n",
       "    <tr>\n",
       "      <th>2</th>\n",
       "      <td>When I tried to check in online, I was offered...</td>\n",
       "      <td>0.9867</td>\n",
       "      <td>positive</td>\n",
       "    </tr>\n",
       "    <tr>\n",
       "      <th>3</th>\n",
       "      <td>I flew from Prague to LHR. Excellent service, ...</td>\n",
       "      <td>0.2669</td>\n",
       "      <td>positive</td>\n",
       "    </tr>\n",
       "    <tr>\n",
       "      <th>4</th>\n",
       "      <td>Disappointing again especially on business. Th...</td>\n",
       "      <td>-0.8999</td>\n",
       "      <td>negative</td>\n",
       "    </tr>\n",
       "    <tr>\n",
       "      <th>...</th>\n",
       "      <td>...</td>\n",
       "      <td>...</td>\n",
       "      <td>...</td>\n",
       "    </tr>\n",
       "    <tr>\n",
       "      <th>1995</th>\n",
       "      <td>I was scheduled to be on BA 114 from JFK to LH...</td>\n",
       "      <td>0.9401</td>\n",
       "      <td>positive</td>\n",
       "    </tr>\n",
       "    <tr>\n",
       "      <th>1996</th>\n",
       "      <td>British Airways from London Heathrow to New Yo...</td>\n",
       "      <td>0.8232</td>\n",
       "      <td>positive</td>\n",
       "    </tr>\n",
       "    <tr>\n",
       "      <th>1997</th>\n",
       "      <td>We flew British Airways BA2678 from Gatwick to...</td>\n",
       "      <td>0.8225</td>\n",
       "      <td>positive</td>\n",
       "    </tr>\n",
       "    <tr>\n",
       "      <th>1998</th>\n",
       "      <td>Flew British Airways London Heathrow to Warsaw...</td>\n",
       "      <td>-0.3818</td>\n",
       "      <td>negative</td>\n",
       "    </tr>\n",
       "    <tr>\n",
       "      <th>1999</th>\n",
       "      <td>Barbados to Gatwick on BA2154. Flight left on ...</td>\n",
       "      <td>0.6331</td>\n",
       "      <td>positive</td>\n",
       "    </tr>\n",
       "  </tbody>\n",
       "</table>\n",
       "<p>2000 rows × 3 columns</p>\n",
       "</div>"
      ],
      "text/plain": [
       "                                                CONTENT  SENTIMENT  \\\n",
       "0     Not Verified |  Seat horribly narrow; 3-4-3 on...     0.9507   \n",
       "1     Glasgow to London delayed by 1 hour. My wife a...    -0.5984   \n",
       "2     When I tried to check in online, I was offered...     0.9867   \n",
       "3     I flew from Prague to LHR. Excellent service, ...     0.2669   \n",
       "4     Disappointing again especially on business. Th...    -0.8999   \n",
       "...                                                 ...        ...   \n",
       "1995  I was scheduled to be on BA 114 from JFK to LH...     0.9401   \n",
       "1996  British Airways from London Heathrow to New Yo...     0.8232   \n",
       "1997  We flew British Airways BA2678 from Gatwick to...     0.8225   \n",
       "1998  Flew British Airways London Heathrow to Warsaw...    -0.3818   \n",
       "1999  Barbados to Gatwick on BA2154. Flight left on ...     0.6331   \n",
       "\n",
       "     SENTIMENT_TYPE  \n",
       "0          positive  \n",
       "1          negative  \n",
       "2          positive  \n",
       "3          positive  \n",
       "4          negative  \n",
       "...             ...  \n",
       "1995       positive  \n",
       "1996       positive  \n",
       "1997       positive  \n",
       "1998       negative  \n",
       "1999       positive  \n",
       "\n",
       "[2000 rows x 3 columns]"
      ]
     },
     "execution_count": 20,
     "metadata": {},
     "output_type": "execute_result"
    }
   ],
   "source": [
    "# Creating another new column called 'SENTIMENT_TYPE' that contains the type of sentiment of each review using nltk\n",
    "# for each sentiment score in the 'SENTIMENT' column\n",
    "sentiment_analysis_df['SENTIMENT_TYPE'] = sentiment_analysis_df['SENTIMENT'].apply(\n",
    "    lambda score: 'positive' if score > 0 else ('negative' if score < 0 else 'neutral')\n",
    "    )\n",
    "sentiment_analysis_df"
   ]
  },
  {
   "cell_type": "code",
   "execution_count": 29,
   "metadata": {},
   "outputs": [
    {
     "data": {
      "image/png": "[encoded data removed]",
      "text/plain": [
       "<Figure size 640x480 with 1 Axes>"
      ]
     },
     "metadata": {},
     "output_type": "display_data"
    }
   ],
   "source": [
    "\n",
    "# calculate the percentage of each type of sentiment score\n",
    "sentiment_type_percentages = sentiment_analysis_df['SENTIMENT_TYPE'].value_counts(normalize=True) * 100\n",
    "\n",
    "# create the pie chart\n",
    "fig, ax = plt.subplots()\n",
    "ax.pie(\n",
    "    sentiment_type_percentages,\n",
    "    labels=sentiment_type_percentages.index, \n",
    "    colors=['green', 'red', 'grey'], \n",
    "    explode=[0.1, 0, 0], \n",
    "    autopct='%1.1f%%'\n",
    "    )\n",
    "\n",
    "plt.show()\n"
   ]
  },
  {
   "attachments": {},
   "cell_type": "markdown",
   "metadata": {},
   "source": [
    "## Sentiment\n",
    "Out of 2000 reviews, 1096 were positive, 898 were negative and \n",
    "6 were neutral. This means the majority of reviews were \n",
    "polarised as either positive or negative"
   ]
  },
  {
   "cell_type": "code",
   "execution_count": 22,
   "metadata": {},
   "outputs": [],
   "source": [
    "#Saving the new data into a csv\n",
    "sentiment_analysis_df.to_csv(r\"C:\\Users\\Mr.Hassan\\Desktop\\100DAYSOFML\\webscraping\\Cleaned_BA_reviews.csv\")"
   ]
  },
  {
   "cell_type": "code",
   "execution_count": 23,
   "metadata": {},
   "outputs": [
    {
     "name": "stderr",
     "output_type": "stream",
     "text": [
      "[nltk_data] Downloading package stopwords to\n",
      "[nltk_data]     C:\\Users\\Mr.Hassan\\AppData\\Roaming\\nltk_data...\n",
      "[nltk_data]   Package stopwords is already up-to-date!\n"
     ]
    },
    {
     "data": {
      "image/png": "[encoded data removed]",
      "text/plain": [
       "<Figure size 640x480 with 1 Axes>"
      ]
     },
     "metadata": {},
     "output_type": "display_data"
    }
   ],
   "source": [
    "# The frequency chart shows the key topics within the \n",
    "# reviews showing what people are actively talking about their experience and staff\n",
    "\n",
    "# Download the stopwords list from nltk\n",
    "nltk.download('stopwords')\n",
    "\n",
    "# Get the reviews from the dataframe\n",
    "reviews = sentiment_analysis_df['CONTENT']\n",
    "\n",
    "# Convert the reviews to a list of words\n",
    "words = []\n",
    "for review in reviews:\n",
    "    words.extend(review.split())\n",
    "\n",
    "# Filter out the stubborn stop words that don't want to disappear\n",
    "stopwords = nltk.corpus.stopwords.words('english')\n",
    "key_words = [word for word in words if word not in stopwords and word not in ['I', 'The','would','one','get','-']]\n",
    "\n",
    "# Get the top 20 most used key words\n",
    "word_counts = Counter(key_words)\n",
    "top_20_words = word_counts.most_common(20)\n",
    "\n",
    "# Filter out the stop words \n",
    "filtered_words = [\n",
    "    (word, count) for word, count in top_20_words if word not in stopwords and word not in ['I', 'The','would','one','get','-']\n",
    "    ]\n",
    "\n",
    "# Get the labels and values for the histogram\n",
    "labels, values = zip(*top_20_words)\n",
    "\n",
    "# Create the histogram\n",
    "plt.bar(labels, values)\n",
    "\n",
    "# Set the x-axis labels to be vertical\n",
    "plt.xticks(rotation=90)\n",
    "\n",
    "#Display the plot\n",
    "plt.show()"
   ]
  },
  {
   "attachments": {},
   "cell_type": "markdown",
   "metadata": {},
   "source": [
    "## Key topics\n",
    "The frequency chart below shows that the key topics within the reviews include “flight”, “London”, “service” and “crew”, showing that \n",
    "people are actively talking about their experience and staff"
   ]
  },
  {
   "cell_type": "markdown",
   "metadata": {},
   "source": []
  }
 ],
 "metadata": {
  "kernelspec": {
   "display_name": "Python 3.8.4 64-bit",
   "language": "python",
   "name": "python3"
  },
  "language_info": {
   "codemirror_mode": {
    "name": "ipython",
    "version": 3
   },
   "file_extension": ".py",
   "mimetype": "text/x-python",
   "name": "python",
   "nbconvert_exporter": "python",
   "pygments_lexer": "ipython3",
   "version": "3.8.4"
  },
  "orig_nbformat": 4,
  "vscode": {
   "interpreter": {
    "hash": "99af3e640fd4e474a589badeb2298da6e916bd1eef1cfdb1d4d8a7dbe00511e5"
   }
  }
 },
 "nbformat": 4,
 "nbformat_minor": 2
}
